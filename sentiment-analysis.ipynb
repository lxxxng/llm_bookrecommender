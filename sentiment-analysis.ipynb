{
 "cells": [
  {
   "cell_type": "code",
   "execution_count": 87,
   "id": "43c60e93",
   "metadata": {},
   "outputs": [],
   "source": [
    "from transformers import pipeline\n",
    "import numpy as np\n",
    "from tqdm import tqdm"
   ]
  },
  {
   "cell_type": "code",
   "execution_count": 68,
   "id": "c5024342",
   "metadata": {},
   "outputs": [],
   "source": [
    "import pandas as pd\n",
    "pd.set_option('display.max_colwidth', 30)"
   ]
  },
  {
   "cell_type": "code",
   "execution_count": 69,
   "id": "4906c254",
   "metadata": {},
   "outputs": [],
   "source": [
    "books = pd.read_csv(\"books_with_categories.csv\")"
   ]
  },
  {
   "cell_type": "code",
   "execution_count": 70,
   "id": "441361ca",
   "metadata": {},
   "outputs": [
    {
     "name": "stderr",
     "output_type": "stream",
     "text": [
      "Device set to use cpu\n"
     ]
    },
    {
     "data": {
      "text/plain": [
       "[[{'label': 'joy', 'score': 0.9771687984466553},\n",
       "  {'label': 'surprise', 'score': 0.008528684265911579},\n",
       "  {'label': 'neutral', 'score': 0.005764583125710487},\n",
       "  {'label': 'anger', 'score': 0.004419783595949411},\n",
       "  {'label': 'sadness', 'score': 0.002092392183840275},\n",
       "  {'label': 'disgust', 'score': 0.0016119909705594182},\n",
       "  {'label': 'fear', 'score': 0.00041385277290828526}]]"
      ]
     },
     "execution_count": 70,
     "metadata": {},
     "output_type": "execute_result"
    }
   ],
   "source": [
    "\n",
    "classifier = pipeline(\"text-classification\", \n",
    "                      model=\"j-hartmann/emotion-english-distilroberta-base\", \n",
    "                      top_k=None)\n",
    "classifier(\"I love this!\")"
   ]
  },
  {
   "cell_type": "code",
   "execution_count": 71,
   "id": "992a31c7",
   "metadata": {},
   "outputs": [
    {
     "data": {
      "text/plain": [
       "'A NOVEL THAT READERS and critics have been eagerly anticipating for over a decade, Gilead is an astonishingly imagined story of remarkable lives. John Ames is a preacher, the son of a preacher and the grandson (both maternal and paternal) of preachers. It’s 1956 in Gilead, Iowa, towards the end of the Reverend Ames’s life, and he is absorbed in recording his family’s story, a legacy for the young son he will never see grow up. Haunted by his grandfather’s presence, John tells of the rift between his grandfather and his father: the elder, an angry visionary who fought for the abolitionist cause, and his son, an ardent pacifist. He is troubled, too, by his prodigal namesake, Jack (John Ames) Boughton, his best friend’s lost son who returns to Gilead searching for forgiveness and redemption. Told in John Ames’s joyous, rambling voice that finds beauty, humour and truth in the smallest of life’s details, Gilead is a song of celebration and acceptance of the best and the worst the world has to offer. At its heart is a tale of the sacred bonds between fathers and sons, pitch-perfect in style and story, set to dazzle critics and readers alike.'"
      ]
     },
     "execution_count": 71,
     "metadata": {},
     "output_type": "execute_result"
    }
   ],
   "source": [
    "books[\"description\"][0]"
   ]
  },
  {
   "cell_type": "code",
   "execution_count": 72,
   "id": "799a04b0",
   "metadata": {},
   "outputs": [
    {
     "data": {
      "text/plain": [
       "[[{'label': 'fear', 'score': 0.6548405885696411},\n",
       "  {'label': 'neutral', 'score': 0.16985228657722473},\n",
       "  {'label': 'sadness', 'score': 0.11640921980142593},\n",
       "  {'label': 'surprise', 'score': 0.02070065587759018},\n",
       "  {'label': 'disgust', 'score': 0.019100677222013474},\n",
       "  {'label': 'joy', 'score': 0.01516144908964634},\n",
       "  {'label': 'anger', 'score': 0.003935146611183882}]]"
      ]
     },
     "execution_count": 72,
     "metadata": {},
     "output_type": "execute_result"
    }
   ],
   "source": [
    "classifier(books[\"description\"][0])"
   ]
  },
  {
   "cell_type": "code",
   "execution_count": 73,
   "id": "0e040c8d",
   "metadata": {},
   "outputs": [
    {
     "data": {
      "text/plain": [
       "[[{'label': 'surprise', 'score': 0.7296020984649658},\n",
       "  {'label': 'neutral', 'score': 0.14038600027561188},\n",
       "  {'label': 'fear', 'score': 0.06816228479146957},\n",
       "  {'label': 'joy', 'score': 0.04794260859489441},\n",
       "  {'label': 'anger', 'score': 0.009156366810202599},\n",
       "  {'label': 'disgust', 'score': 0.0026284765917807817},\n",
       "  {'label': 'sadness', 'score': 0.002122163539752364}],\n",
       " [{'label': 'neutral', 'score': 0.44937002658843994},\n",
       "  {'label': 'disgust', 'score': 0.27359163761138916},\n",
       "  {'label': 'joy', 'score': 0.10908330976963043},\n",
       "  {'label': 'sadness', 'score': 0.09362746775150299},\n",
       "  {'label': 'anger', 'score': 0.04047830402851105},\n",
       "  {'label': 'surprise', 'score': 0.026970159262418747},\n",
       "  {'label': 'fear', 'score': 0.006879047024995089}],\n",
       " [{'label': 'neutral', 'score': 0.6462159752845764},\n",
       "  {'label': 'sadness', 'score': 0.24273329973220825},\n",
       "  {'label': 'disgust', 'score': 0.04342271760106087},\n",
       "  {'label': 'surprise', 'score': 0.028300564736127853},\n",
       "  {'label': 'joy', 'score': 0.014211472123861313},\n",
       "  {'label': 'fear', 'score': 0.0140841044485569},\n",
       "  {'label': 'anger', 'score': 0.011031901463866234}],\n",
       " [{'label': 'fear', 'score': 0.9281681180000305},\n",
       "  {'label': 'anger', 'score': 0.032191041857004166},\n",
       "  {'label': 'neutral', 'score': 0.01280867587774992},\n",
       "  {'label': 'sadness', 'score': 0.008756861090660095},\n",
       "  {'label': 'surprise', 'score': 0.008597906678915024},\n",
       "  {'label': 'disgust', 'score': 0.008431818336248398},\n",
       "  {'label': 'joy', 'score': 0.0010455837473273277}],\n",
       " [{'label': 'sadness', 'score': 0.9671575427055359},\n",
       "  {'label': 'neutral', 'score': 0.015104127116501331},\n",
       "  {'label': 'disgust', 'score': 0.006480589509010315},\n",
       "  {'label': 'fear', 'score': 0.005393980070948601},\n",
       "  {'label': 'surprise', 'score': 0.002286937553435564},\n",
       "  {'label': 'anger', 'score': 0.0018428878393024206},\n",
       "  {'label': 'joy', 'score': 0.0017338756006211042}],\n",
       " [{'label': 'joy', 'score': 0.932798445224762},\n",
       "  {'label': 'disgust', 'score': 0.0377168171107769},\n",
       "  {'label': 'neutral', 'score': 0.015891803428530693},\n",
       "  {'label': 'sadness', 'score': 0.006444480270147324},\n",
       "  {'label': 'anger', 'score': 0.005024945829063654},\n",
       "  {'label': 'surprise', 'score': 0.0015812049387022853},\n",
       "  {'label': 'fear', 'score': 0.0005423048860393465}],\n",
       " [{'label': 'joy', 'score': 0.6528708338737488},\n",
       "  {'label': 'neutral', 'score': 0.25427478551864624},\n",
       "  {'label': 'surprise', 'score': 0.06808284670114517},\n",
       "  {'label': 'sadness', 'score': 0.009908987209200859},\n",
       "  {'label': 'disgust', 'score': 0.0065122200176119804},\n",
       "  {'label': 'anger', 'score': 0.004821304697543383},\n",
       "  {'label': 'fear', 'score': 0.0035290175583213568}],\n",
       " [{'label': 'neutral', 'score': 0.5494767427444458},\n",
       "  {'label': 'sadness', 'score': 0.11169017851352692},\n",
       "  {'label': 'disgust', 'score': 0.10400667786598206},\n",
       "  {'label': 'surprise', 'score': 0.07876550406217575},\n",
       "  {'label': 'anger', 'score': 0.0641336441040039},\n",
       "  {'label': 'fear', 'score': 0.05136283114552498},\n",
       "  {'label': 'joy', 'score': 0.04056443274021149}]]"
      ]
     },
     "execution_count": 73,
     "metadata": {},
     "output_type": "execute_result"
    }
   ],
   "source": [
    "classifier(books[\"description\"][0].split(\".\"))"
   ]
  },
  {
   "cell_type": "code",
   "execution_count": 74,
   "id": "fbd2a004",
   "metadata": {},
   "outputs": [],
   "source": [
    "sentences = books[\"description\"][0].split(\".\")\n",
    "predictions = classifier(sentences)"
   ]
  },
  {
   "cell_type": "code",
   "execution_count": 75,
   "id": "891a47e3",
   "metadata": {},
   "outputs": [
    {
     "data": {
      "text/plain": [
       "'A NOVEL THAT READERS and critics have been eagerly anticipating for over a decade, Gilead is an astonishingly imagined story of remarkable lives'"
      ]
     },
     "execution_count": 75,
     "metadata": {},
     "output_type": "execute_result"
    }
   ],
   "source": [
    "sentences[0]"
   ]
  },
  {
   "cell_type": "code",
   "execution_count": 76,
   "id": "2f6d0dc2",
   "metadata": {},
   "outputs": [
    {
     "data": {
      "text/plain": [
       "[{'label': 'surprise', 'score': 0.7296020984649658},\n",
       " {'label': 'neutral', 'score': 0.14038600027561188},\n",
       " {'label': 'fear', 'score': 0.06816228479146957},\n",
       " {'label': 'joy', 'score': 0.04794260859489441},\n",
       " {'label': 'anger', 'score': 0.009156366810202599},\n",
       " {'label': 'disgust', 'score': 0.0026284765917807817},\n",
       " {'label': 'sadness', 'score': 0.002122163539752364}]"
      ]
     },
     "execution_count": 76,
     "metadata": {},
     "output_type": "execute_result"
    }
   ],
   "source": [
    "predictions[0]"
   ]
  },
  {
   "cell_type": "code",
   "execution_count": 77,
   "id": "0d579b0e",
   "metadata": {},
   "outputs": [
    {
     "data": {
      "text/plain": [
       "' Haunted by his grandfather’s presence, John tells of the rift between his grandfather and his father: the elder, an angry visionary who fought for the abolitionist cause, and his son, an ardent pacifist'"
      ]
     },
     "execution_count": 77,
     "metadata": {},
     "output_type": "execute_result"
    }
   ],
   "source": [
    "sentences[3]"
   ]
  },
  {
   "cell_type": "code",
   "execution_count": 78,
   "id": "a5cab1b9",
   "metadata": {},
   "outputs": [
    {
     "data": {
      "text/plain": [
       "[{'label': 'fear', 'score': 0.9281681180000305},\n",
       " {'label': 'anger', 'score': 0.032191041857004166},\n",
       " {'label': 'neutral', 'score': 0.01280867587774992},\n",
       " {'label': 'sadness', 'score': 0.008756861090660095},\n",
       " {'label': 'surprise', 'score': 0.008597906678915024},\n",
       " {'label': 'disgust', 'score': 0.008431818336248398},\n",
       " {'label': 'joy', 'score': 0.0010455837473273277}]"
      ]
     },
     "execution_count": 78,
     "metadata": {},
     "output_type": "execute_result"
    }
   ],
   "source": [
    "predictions[3]"
   ]
  },
  {
   "cell_type": "code",
   "execution_count": 79,
   "id": "6aeeb756",
   "metadata": {},
   "outputs": [],
   "source": [
    "# since different sentences have different emotions.. we get the max score for each emotion across the sentences"
   ]
  },
  {
   "cell_type": "code",
   "execution_count": 80,
   "id": "dc8920c5",
   "metadata": {},
   "outputs": [
    {
     "data": {
      "text/plain": [
       "[{'label': 'sadness', 'score': 0.002122163539752364},\n",
       " {'label': 'disgust', 'score': 0.0026284765917807817},\n",
       " {'label': 'anger', 'score': 0.009156366810202599},\n",
       " {'label': 'joy', 'score': 0.04794260859489441},\n",
       " {'label': 'fear', 'score': 0.06816228479146957},\n",
       " {'label': 'neutral', 'score': 0.14038600027561188},\n",
       " {'label': 'surprise', 'score': 0.7296020984649658}]"
      ]
     },
     "execution_count": 80,
     "metadata": {},
     "output_type": "execute_result"
    }
   ],
   "source": [
    "sorted(predictions[0], key=lambda x: x[\"score\"])"
   ]
  },
  {
   "cell_type": "code",
   "execution_count": 81,
   "id": "4e3978f7",
   "metadata": {},
   "outputs": [],
   "source": [
    "emotion_labels = [\"anger\", \"disgust\", \"fear\", \"joy\", \"sadness\", \"surprise\", \"neutral\"]\n",
    "isbn = []\n",
    "emotion_scores = {label: [] for label in emotion_labels}"
   ]
  },
  {
   "cell_type": "code",
   "execution_count": 82,
   "id": "affee0d5",
   "metadata": {},
   "outputs": [
    {
     "data": {
      "text/plain": [
       "{'anger': [],\n",
       " 'disgust': [],\n",
       " 'fear': [],\n",
       " 'joy': [],\n",
       " 'sadness': [],\n",
       " 'surprise': [],\n",
       " 'neutral': []}"
      ]
     },
     "execution_count": 82,
     "metadata": {},
     "output_type": "execute_result"
    }
   ],
   "source": [
    "emotion_scores"
   ]
  },
  {
   "cell_type": "code",
   "execution_count": 83,
   "id": "a554682e",
   "metadata": {},
   "outputs": [],
   "source": [
    "def calculate_max_emotion_scores(predictions):\n",
    "    per_emotion_scores = {label: [] for label in emotion_labels}\n",
    "    \n",
    "    # for each sentence in \"predictions\", sort the predictions by score\n",
    "    for prediction in predictions:\n",
    "        sorted_predictions = sorted(prediction, key=lambda x: x[\"score\"])\n",
    "        \n",
    "        # for each emotion label, appended the score to the corresponding list in per_emotion_scores\n",
    "        for index, label in enumerate(emotion_labels):\n",
    "            per_emotion_scores[label].append(sorted_predictions[index][\"score\"])\n",
    "            \n",
    "    return {label: np.max(scores) for label, scores in per_emotion_scores.items()}"
   ]
  },
  {
   "cell_type": "code",
   "execution_count": 84,
   "id": "d1ee73ca",
   "metadata": {},
   "outputs": [
    {
     "name": "stdout",
     "output_type": "stream",
     "text": [
      "{'anger': 0.04056443274021149, 'disgust': 0.05136283114552498, 'fear': 0.0641336441040039, 'joy': 0.09362746775150299, 'sadness': 0.10908330976963043, 'surprise': 0.27359163761138916, 'neutral': 0.9671575427055359}\n",
      "{'anger': 0.04056443274021149, 'disgust': 0.05136283114552498, 'fear': 0.07713040709495544, 'joy': 0.14334739744663239, 'sadness': 0.19543635845184326, 'surprise': 0.31934940814971924, 'neutral': 0.9425276517868042}\n",
      "{'anger': 0.04056443274021149, 'disgust': 0.05136283114552498, 'fear': 0.0641336441040039, 'joy': 0.07876550406217575, 'sadness': 0.10400667786598206, 'surprise': 0.11169017851352692, 'neutral': 0.9723208546638489}\n",
      "{'anger': 0.04056443274021149, 'disgust': 0.05136283114552498, 'fear': 0.0641336441040039, 'joy': 0.07967234402894974, 'sadness': 0.1507224589586258, 'surprise': 0.35148438811302185, 'neutral': 0.7326844930648804}\n",
      "{'anger': 0.04056443274021149, 'disgust': 0.05136283114552498, 'fear': 0.0641336441040039, 'joy': 0.09504333138465881, 'sadness': 0.12224280834197998, 'surprise': 0.2726134657859802, 'neutral': 0.8843896985054016}\n",
      "{'anger': 0.04056443274021149, 'disgust': 0.05136283114552498, 'fear': 0.0641336441040039, 'joy': 0.10239004343748093, 'sadness': 0.11962185055017471, 'surprise': 0.27190330624580383, 'neutral': 0.7271744608879089}\n",
      "{'anger': 0.04056443274021149, 'disgust': 0.05136283114552498, 'fear': 0.0641336441040039, 'joy': 0.08459082990884781, 'sadness': 0.18529179692268372, 'surprise': 0.38535863161087036, 'neutral': 0.872565746307373}\n",
      "{'anger': 0.04056443274021149, 'disgust': 0.05136283114552498, 'fear': 0.0641336441040039, 'joy': 0.07876550406217575, 'sadness': 0.2344866842031479, 'surprise': 0.2921656668186188, 'neutral': 0.8202826380729675}\n",
      "{'anger': 0.04056443274021149, 'disgust': 0.05136283114552498, 'fear': 0.07182488590478897, 'joy': 0.13561423122882843, 'sadness': 0.24911804497241974, 'surprise': 0.2794816195964813, 'neutral': 0.9155241250991821}\n",
      "{'anger': 0.04056443274021149, 'disgust': 0.05136283114552498, 'fear': 0.0641336441040039, 'joy': 0.07876550406217575, 'sadness': 0.10400667786598206, 'surprise': 0.17792661488056183, 'neutral': 0.8603722453117371}\n"
     ]
    }
   ],
   "source": [
    "for i in range(10):\n",
    "    isbn.append(books[\"isbn13\"][i])\n",
    "    sentences = books[\"description\"][i].split(\".\")\n",
    "    predictions = classifier(sentences)\n",
    "    max_scores = calculate_max_emotion_scores(predictions)\n",
    "    \n",
    "    print(max_scores)\n",
    "    \n",
    "    for label in emotion_labels:\n",
    "        emotion_scores[label].append(max_scores[label])"
   ]
  },
  {
   "cell_type": "code",
   "execution_count": null,
   "id": "4f893e65",
   "metadata": {},
   "outputs": [
    {
     "data": {
      "text/plain": [
       "{'anger': [0.04056443274021149,\n",
       "  0.04056443274021149,\n",
       "  0.04056443274021149,\n",
       "  0.04056443274021149,\n",
       "  0.04056443274021149,\n",
       "  0.04056443274021149,\n",
       "  0.04056443274021149,\n",
       "  0.04056443274021149,\n",
       "  0.04056443274021149,\n",
       "  0.04056443274021149],\n",
       " 'disgust': [0.05136283114552498,\n",
       "  0.05136283114552498,\n",
       "  0.05136283114552498,\n",
       "  0.05136283114552498,\n",
       "  0.05136283114552498,\n",
       "  0.05136283114552498,\n",
       "  0.05136283114552498,\n",
       "  0.05136283114552498,\n",
       "  0.05136283114552498,\n",
       "  0.05136283114552498],\n",
       " 'fear': [0.0641336441040039,\n",
       "  0.07713040709495544,\n",
       "  0.0641336441040039,\n",
       "  0.0641336441040039,\n",
       "  0.0641336441040039,\n",
       "  0.0641336441040039,\n",
       "  0.0641336441040039,\n",
       "  0.0641336441040039,\n",
       "  0.07182488590478897,\n",
       "  0.0641336441040039],\n",
       " 'joy': [0.09362746775150299,\n",
       "  0.14334739744663239,\n",
       "  0.07876550406217575,\n",
       "  0.07967234402894974,\n",
       "  0.09504333138465881,\n",
       "  0.10239004343748093,\n",
       "  0.08459082990884781,\n",
       "  0.07876550406217575,\n",
       "  0.13561423122882843,\n",
       "  0.07876550406217575],\n",
       " 'sadness': [0.10908330976963043,\n",
       "  0.19543635845184326,\n",
       "  0.10400667786598206,\n",
       "  0.1507224589586258,\n",
       "  0.12224280834197998,\n",
       "  0.11962185055017471,\n",
       "  0.18529179692268372,\n",
       "  0.2344866842031479,\n",
       "  0.24911804497241974,\n",
       "  0.10400667786598206],\n",
       " 'surprise': [0.27359163761138916,\n",
       "  0.31934940814971924,\n",
       "  0.11169017851352692,\n",
       "  0.35148438811302185,\n",
       "  0.2726134657859802,\n",
       "  0.27190330624580383,\n",
       "  0.38535863161087036,\n",
       "  0.2921656668186188,\n",
       "  0.2794816195964813,\n",
       "  0.17792661488056183],\n",
       " 'neutral': [0.9671575427055359,\n",
       "  0.9425276517868042,\n",
       "  0.9723208546638489,\n",
       "  0.7326844930648804,\n",
       "  0.8843896985054016,\n",
       "  0.7271744608879089,\n",
       "  0.872565746307373,\n",
       "  0.8202826380729675,\n",
       "  0.9155241250991821,\n",
       "  0.8603722453117371]}"
      ]
     },
     "execution_count": 85,
     "metadata": {},
     "output_type": "execute_result"
    }
   ],
   "source": [
    "emotion_scores"
   ]
  },
  {
   "cell_type": "code",
   "execution_count": 89,
   "id": "c581c9ad",
   "metadata": {},
   "outputs": [
    {
     "name": "stderr",
     "output_type": "stream",
     "text": [
      "100%|██████████| 5197/5197 [14:30<00:00,  5.97it/s]\n"
     ]
    }
   ],
   "source": [
    "#now perform for all books\n",
    "emotion_labels = [\"anger\", \"disgust\", \"fear\", \"joy\", \"sadness\", \"surprise\", \"neutral\"]\n",
    "isbn = []\n",
    "emotion_scores = {label: [] for label in emotion_labels}\n",
    "\n",
    "for i in tqdm(range(len(books))):\n",
    "    isbn.append(books[\"isbn13\"][i])\n",
    "    sentences = books[\"description\"][i].split(\".\")\n",
    "    predictions = classifier(sentences)\n",
    "    max_scores = calculate_max_emotion_scores(predictions)\n",
    "    \n",
    "    for label in emotion_labels:\n",
    "        emotion_scores[label].append(max_scores[label])"
   ]
  },
  {
   "cell_type": "code",
   "execution_count": 93,
   "id": "d358d5e9",
   "metadata": {},
   "outputs": [],
   "source": [
    "emotions_df = pd.DataFrame(emotion_scores)\n",
    "emotions_df[\"isbn13\"] = isbn"
   ]
  },
  {
   "cell_type": "code",
   "execution_count": 94,
   "id": "7a021f5c",
   "metadata": {},
   "outputs": [
    {
     "data": {
      "text/html": [
       "<div>\n",
       "<style scoped>\n",
       "    .dataframe tbody tr th:only-of-type {\n",
       "        vertical-align: middle;\n",
       "    }\n",
       "\n",
       "    .dataframe tbody tr th {\n",
       "        vertical-align: top;\n",
       "    }\n",
       "\n",
       "    .dataframe thead th {\n",
       "        text-align: right;\n",
       "    }\n",
       "</style>\n",
       "<table border=\"1\" class=\"dataframe\">\n",
       "  <thead>\n",
       "    <tr style=\"text-align: right;\">\n",
       "      <th></th>\n",
       "      <th>anger</th>\n",
       "      <th>disgust</th>\n",
       "      <th>fear</th>\n",
       "      <th>joy</th>\n",
       "      <th>sadness</th>\n",
       "      <th>surprise</th>\n",
       "      <th>neutral</th>\n",
       "      <th>isbn13</th>\n",
       "    </tr>\n",
       "  </thead>\n",
       "  <tbody>\n",
       "    <tr>\n",
       "      <th>0</th>\n",
       "      <td>0.040564</td>\n",
       "      <td>0.051363</td>\n",
       "      <td>0.064134</td>\n",
       "      <td>0.093627</td>\n",
       "      <td>0.109083</td>\n",
       "      <td>0.273592</td>\n",
       "      <td>0.967158</td>\n",
       "      <td>9780002005883</td>\n",
       "    </tr>\n",
       "    <tr>\n",
       "      <th>1</th>\n",
       "      <td>0.040564</td>\n",
       "      <td>0.051363</td>\n",
       "      <td>0.077130</td>\n",
       "      <td>0.143347</td>\n",
       "      <td>0.195436</td>\n",
       "      <td>0.319349</td>\n",
       "      <td>0.942528</td>\n",
       "      <td>9780002261982</td>\n",
       "    </tr>\n",
       "    <tr>\n",
       "      <th>2</th>\n",
       "      <td>0.040564</td>\n",
       "      <td>0.051363</td>\n",
       "      <td>0.064134</td>\n",
       "      <td>0.078766</td>\n",
       "      <td>0.104007</td>\n",
       "      <td>0.111690</td>\n",
       "      <td>0.972321</td>\n",
       "      <td>9780006178736</td>\n",
       "    </tr>\n",
       "    <tr>\n",
       "      <th>3</th>\n",
       "      <td>0.040564</td>\n",
       "      <td>0.051363</td>\n",
       "      <td>0.064134</td>\n",
       "      <td>0.079672</td>\n",
       "      <td>0.150722</td>\n",
       "      <td>0.351484</td>\n",
       "      <td>0.732684</td>\n",
       "      <td>9780006280897</td>\n",
       "    </tr>\n",
       "    <tr>\n",
       "      <th>4</th>\n",
       "      <td>0.040564</td>\n",
       "      <td>0.051363</td>\n",
       "      <td>0.064134</td>\n",
       "      <td>0.095043</td>\n",
       "      <td>0.122243</td>\n",
       "      <td>0.272613</td>\n",
       "      <td>0.884390</td>\n",
       "      <td>9780006280934</td>\n",
       "    </tr>\n",
       "  </tbody>\n",
       "</table>\n",
       "</div>"
      ],
      "text/plain": [
       "      anger   disgust      fear       joy   sadness  surprise   neutral  \\\n",
       "0  0.040564  0.051363  0.064134  0.093627  0.109083  0.273592  0.967158   \n",
       "1  0.040564  0.051363  0.077130  0.143347  0.195436  0.319349  0.942528   \n",
       "2  0.040564  0.051363  0.064134  0.078766  0.104007  0.111690  0.972321   \n",
       "3  0.040564  0.051363  0.064134  0.079672  0.150722  0.351484  0.732684   \n",
       "4  0.040564  0.051363  0.064134  0.095043  0.122243  0.272613  0.884390   \n",
       "\n",
       "          isbn13  \n",
       "0  9780002005883  \n",
       "1  9780002261982  \n",
       "2  9780006178736  \n",
       "3  9780006280897  \n",
       "4  9780006280934  "
      ]
     },
     "execution_count": 94,
     "metadata": {},
     "output_type": "execute_result"
    }
   ],
   "source": [
    "emotions_df.head()"
   ]
  },
  {
   "cell_type": "code",
   "execution_count": 95,
   "id": "adb14a59",
   "metadata": {},
   "outputs": [],
   "source": [
    "books = pd.merge(books, emotions_df, on=\"isbn13\")"
   ]
  },
  {
   "cell_type": "code",
   "execution_count": null,
   "id": "44942d38",
   "metadata": {},
   "outputs": [],
   "source": []
  }
 ],
 "metadata": {
  "kernelspec": {
   "display_name": "book_recommender",
   "language": "python",
   "name": "python3"
  },
  "language_info": {
   "codemirror_mode": {
    "name": "ipython",
    "version": 3
   },
   "file_extension": ".py",
   "mimetype": "text/x-python",
   "name": "python",
   "nbconvert_exporter": "python",
   "pygments_lexer": "ipython3",
   "version": "3.11.11"
  }
 },
 "nbformat": 4,
 "nbformat_minor": 5
}
